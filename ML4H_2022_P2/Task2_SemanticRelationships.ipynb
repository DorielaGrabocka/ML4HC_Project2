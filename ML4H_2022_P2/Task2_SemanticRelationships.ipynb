{
 "cells": [
  {
   "cell_type": "markdown",
   "metadata": {
    "pycharm": {
     "name": "#%% md\n"
    }
   },
   "source": [
    "##### Inspiration from:\n",
    "https://earlyprint.org/jupyterbook/word2vec.html\n",
    "https://jalammar.github.io/illustrated-word2vec/\n",
    "https://www.sci.utah.edu/~beiwang/publications/Word_Embeddings_BeiWang_2017.pdf\n"
   ]
  },
  {
   "cell_type": "markdown",
   "metadata": {},
   "source": [
    "# This notebook explores semantic relations between word embeddings"
   ]
  },
  {
   "cell_type": "markdown",
   "metadata": {
    "id": "NqOW3Qv__lNs"
   },
   "source": [
    "## Importing the libraries and set up"
   ]
  },
  {
   "cell_type": "code",
   "execution_count": null,
   "metadata": {
    "colab": {
     "base_uri": "https://localhost:8080/",
     "height": 52
    },
    "id": "bhHRN5-z_80a",
    "outputId": "d9534a25-7d1a-476e-cd80-d5627120c2fc"
   },
   "outputs": [],
   "source": [
    "%load_ext autoreload\n",
    "%autoreload 2\n",
    "\n",
    "from IPython.display import display, HTML\n",
    "display(HTML(\"<style>.container { width:100% !important; }</style>\"))"
   ]
  },
  {
   "cell_type": "code",
   "execution_count": null,
   "metadata": {
    "id": "uFF_7b5IK_uD"
   },
   "outputs": [],
   "source": [
    "import numpy as np\n",
    "import pandas as pd\n",
    "from sklearn.decomposition import PCA\n",
    "from sklearn.utils.class_weight import compute_class_weight\n",
    "from src.embeddings import load_embedding\n",
    "from src.data_processing import preprocess_raw_datasets, PreprocessingOptions, encode_one_hot_labels, get_value_from_tuple\n",
    "from src.data_loading import load_labels\n",
    "from src.constants import PATH_EMBEDDINGS_DATA_WORD2VEC, PATH_EMBEDDINGS_DATA_FASTTEXT\n",
    "from src.plots import visualize_word_vectors, heatmaps_of_feature_vectors"
   ]
  },
  {
   "cell_type": "markdown",
   "metadata": {
    "id": "3KvC1ZJyAQ5d"
   },
   "source": [
    "## Data Loading"
   ]
  },
  {
   "cell_type": "markdown",
   "metadata": {
    "id": "SxnNyH1bAhjx"
   },
   "source": [
    "##### Load the previously computed embeddings"
   ]
  },
  {
   "cell_type": "code",
   "execution_count": null,
   "metadata": {
    "id": "LivmokMbASfx"
   },
   "outputs": [],
   "source": [
    "y_train, y_dev, y_test = load_labels()\n",
    "balanced_class_weight = {k: v for k, v in enumerate(compute_class_weight(\"balanced\", classes=np.unique(y_train), y=y_train))}"
   ]
  },
  {
   "cell_type": "code",
   "execution_count": null,
   "metadata": {
    "id": "RphnDCmbAnkh"
   },
   "outputs": [],
   "source": [
    "# relevant settings to identify the desired embedding\n",
    "PREPROCESSING_OPTIONS = PreprocessingOptions(remove_stop_words=False, lemmatisation=False)\n",
    "EMBEDDING = \"word2vec\" # \"word2vec\" or \"fasttext\" - please copy paste it as it is written\n",
    "EMBEDDING_VERSION = \"cbow\" # \"cbow\" or \"Skip_N-gram\" - please copy paste it as it is written\n",
    "VECTOR_SIZE = 25"
   ]
  },
  {
   "cell_type": "code",
   "execution_count": null,
   "metadata": {
    "id": "mjGDzmOaBZuL"
   },
   "outputs": [],
   "source": [
    "#Load the embedding model trained in Task2_ComputeEmbeddings with the above configurations\n",
    "model = load_embedding(version=EMBEDDING_VERSION, vector_size=VECTOR_SIZE, embedding_type = EMBEDDING)"
   ]
  },
  {
   "cell_type": "markdown",
   "metadata": {
    "id": "qlIk9hSgFWiz"
   },
   "source": [
    "#### Exploration of semantic relationships"
   ]
  },
  {
   "cell_type": "code",
   "execution_count": null,
   "metadata": {
    "colab": {
     "base_uri": "https://localhost:8080/"
    },
    "id": "LPQnGnUJFc62",
    "outputId": "3b49ce1e-f5d7-4138-87e0-814f7fde50c3"
   },
   "outputs": [],
   "source": [
    "# checking some words after the embedding\n",
    "print(list(model.index_to_key)[:150])"
   ]
  },
  {
   "cell_type": "code",
   "execution_count": null,
   "metadata": {
    "id": "gurKoJsKQiT2"
   },
   "outputs": [],
   "source": [
    "#just selected 10 random words from the dataset to  find their most similiar words \n",
    "words_to_test = [\"blood\", \"dose\", \"anxiety\", \"health\", \"study\", \"paper\", \"tonsillectomy\", \"ophthalmopathy\", \"effects\", \"macronutrient\", \"hypocaloric\", \"diet\"]\n",
    "dict_of_most_similiar_words = dict() #will use it later for visualizations\n",
    "for word in words_to_test:\n",
    "  most_similiar_words = model.most_similar(word)\n",
    "  dict_of_most_similiar_words[word] = get_value_from_tuple(most_similiar_words[:4])\n",
    "  dict_of_most_similiar_words[word].append(word) #add the words to visualize it in the same plot as the most similiar words"
   ]
  },
  {
   "cell_type": "code",
   "execution_count": null,
   "metadata": {
    "colab": {
     "base_uri": "https://localhost:8080/",
     "height": 1000
    },
    "id": "pBVTUx22m5ug",
    "outputId": "f211a4e7-48e0-490a-be0d-0e86c6f35e26"
   },
   "outputs": [],
   "source": [
    "for w in words_to_test:\n",
    "  title = \"Heatmap of feature vector values for \\'\"+ w+\"\\'\"\n",
    "  heatmaps_of_feature_vectors(model, dict_of_most_similiar_words.get(w), title_of_plot=title)"
   ]
  },
  {
   "cell_type": "markdown",
   "metadata": {
    "id": "3z9zmp0c2Cpz"
   },
   "source": [
    "#### Visualize word similiarity"
   ]
  },
  {
   "cell_type": "markdown",
   "metadata": {
    "id": "dEkzW3_Mx-WJ"
   },
   "source": [
    "Visualizing word similiarity using PCA"
   ]
  },
  {
   "cell_type": "code",
   "execution_count": null,
   "metadata": {
    "id": "XfK9xkHU2Bdk"
   },
   "outputs": [],
   "source": [
    "pca = PCA(n_components=2)\n",
    "pca_results = pca.fit_transform(model.get_normed_vectors())\n",
    "pca_df = pd.DataFrame(pca_results, index=model.key_to_index, columns=[\"pc1\",\"pc2\"])"
   ]
  },
  {
   "cell_type": "code",
   "execution_count": null,
   "metadata": {
    "colab": {
     "base_uri": "https://localhost:8080/",
     "height": 350
    },
    "id": "OtL-xdXC2qi5",
    "outputId": "43cf5512-c7de-4d52-8736-2e4b725a9dc0"
   },
   "outputs": [],
   "source": [
    "visualize_word_vectors(\"\", pca_df, words_to_test) # \"\" means that we are plotting all words in words_to_test"
   ]
  },
  {
   "cell_type": "code",
   "execution_count": null,
   "metadata": {
    "colab": {
     "base_uri": "https://localhost:8080/",
     "height": 1000
    },
    "id": "BHSERhH_4PiH",
    "outputId": "9a9cb007-b56d-46c9-f048-81cb0a9b5663"
   },
   "outputs": [],
   "source": [
    "for w in words_to_test:\n",
    "  visualize_word_vectors(w, pca_df, dict_of_most_similiar_words[w])"
   ]
  },
  {
   "cell_type": "markdown",
   "metadata": {
    "id": "YcOev3lC3pI7"
   },
   "source": [
    "### Analogies"
   ]
  },
  {
   "cell_type": "markdown",
   "metadata": {
    "id": "JEw9XRqvALvW"
   },
   "source": [
    "Here we find analogies between words after addition/subtraction among corresponding vectors"
   ]
  },
  {
   "cell_type": "code",
   "execution_count": null,
   "metadata": {
    "id": "znQKQmnn3r6t"
   },
   "outputs": [],
   "source": [
    "word1 = \"patient\"\n",
    "word2 = \"treatment\"\n",
    "#word3=\"health\"\n",
    "analogies_list = get_value_from_tuple(model.most_similar(positive=[word1, word2], negative=[]))\n",
    "analogies_list.append(word1)\n",
    "analogies_list.append(word2)\n",
    "#analogies_list.append(word3)"
   ]
  },
  {
   "cell_type": "code",
   "execution_count": null,
   "metadata": {
    "colab": {
     "base_uri": "https://localhost:8080/",
     "height": 336
    },
    "id": "-JPAv-Qt556-",
    "outputId": "09aeb0aa-1a38-4ac5-a4a2-5a3b680d1e50",
    "pycharm": {
     "is_executing": true
    }
   },
   "outputs": [],
   "source": [
    "#title = \"Heatmap of feature vector values for analogies:\"+\" vec(\"+analogies_list[len(analogies_list)-3]+\") + vec(\"+analogies_list[len(analogies_list)-2]+\") - vec(\"+analogies_list[len(analogies_list)-1]+\")\"\n",
    "title = \"Heatmap of feature vector values for analogies:\"+\" vec(\"+analogies_list[len(analogies_list)-2]+\") + vec(\"+analogies_list[len(analogies_list)-1]+\")\"\n",
    "heatmaps_of_feature_vectors(model, analogies_list, title)"
   ]
  }
 ],
 "metadata": {
  "colab": {
   "collapsed_sections": [],
   "name": "Task2_SemanticRelationships.ipynb",
   "provenance": []
  },
  "kernelspec": {
   "display_name": "ml4h_project2",
   "language": "python",
   "name": "ml4h_project2"
  },
  "language_info": {
   "codemirror_mode": {
    "name": "ipython",
    "version": 3
   },
   "file_extension": ".py",
   "mimetype": "text/x-python",
   "name": "python",
   "nbconvert_exporter": "python",
   "pygments_lexer": "ipython3",
   "version": "3.9.7"
  }
 },
 "nbformat": 4,
 "nbformat_minor": 1
}

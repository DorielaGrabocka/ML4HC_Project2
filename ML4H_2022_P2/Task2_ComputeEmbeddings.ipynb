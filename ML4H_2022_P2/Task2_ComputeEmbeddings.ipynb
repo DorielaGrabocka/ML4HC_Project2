{
 "cells": [
  {
   "cell_type": "markdown",
   "id": "QUsouq92B_pL",
   "metadata": {
    "id": "QUsouq92B_pL"
   },
   "source": [
    "# Task 2 computing embeddings"
   ]
  },
  {
   "cell_type": "markdown",
   "id": "bddf70a8",
   "metadata": {
    "id": "bddf70a8"
   },
   "source": [
    "This notebook provides support for computing and persisting Word2Vec sentence embeddings with various configs"
   ]
  },
  {
   "cell_type": "markdown",
   "id": "fa9fec98",
   "metadata": {
    "id": "fa9fec98"
   },
   "source": [
    "# Imports and Setup"
   ]
  },
  {
   "cell_type": "code",
   "execution_count": null,
   "id": "8afbd43c",
   "metadata": {
    "colab": {
     "base_uri": "https://localhost:8080/",
     "height": 17
    },
    "id": "8afbd43c",
    "outputId": "3a232aa8-7a16-475a-c0f3-4cd289fefc55"
   },
   "outputs": [],
   "source": [
    "%load_ext autoreload\n",
    "%autoreload 2\n",
    "\n",
    "from IPython.display import display, HTML\n",
    "display(HTML(\"<style>.container { width:100% !important; }</style>\"))\n"
   ]
  },
  {
   "cell_type": "code",
   "execution_count": null,
   "id": "1c1af39a",
   "metadata": {},
   "outputs": [],
   "source": [
    "# Needed to make the embedding model training deterministic\n",
    "# otherwise we cannot supply a pretrained RNN model later,\n",
    "# because recomputing the embeddings would change its input data\n",
    "%env PYTHONHASHSEED=0\n",
    "    "
   ]
  },
  {
   "cell_type": "code",
   "execution_count": null,
   "id": "259202ce",
   "metadata": {
    "id": "259202ce"
   },
   "outputs": [],
   "source": [
    "import tensorflow as tf\n",
    "import numpy as np\n",
    "\n",
    "from src.data_processing import PreprocessingOptions\n",
    "from src.data_loading import load_raw_datasets, persist_preprocessed_data, load_preprocessed_data, \\\n",
    "                             persist_labels, load_labels, persist_embeddings\n",
    "from src.embeddings import load_embedding, SentenceEmbedder, train_and_save_embedding_model\n"
   ]
  },
  {
   "cell_type": "markdown",
   "id": "460c7145",
   "metadata": {
    "id": "460c7145"
   },
   "source": [
    "# Data Loading\n",
    "Load the previously computed embeddings and create tf dataset"
   ]
  },
  {
   "cell_type": "code",
   "execution_count": null,
   "id": "94e3e11c",
   "metadata": {
    "id": "94e3e11c"
   },
   "outputs": [],
   "source": [
    "PREPROCESSING_OPTIONS = PreprocessingOptions(remove_stop_words=False, lemmatisation=False)\n"
   ]
  },
  {
   "cell_type": "code",
   "execution_count": null,
   "id": "709a8e9a",
   "metadata": {
    "id": "709a8e9a"
   },
   "outputs": [],
   "source": [
    "x_preprocessed_train = load_preprocessed_data(PREPROCESSING_OPTIONS, \"train\")\n",
    "x_preprocessed_dev = load_preprocessed_data(PREPROCESSING_OPTIONS, \"dev\")\n",
    "x_preprocessed_test = load_preprocessed_data(PREPROCESSING_OPTIONS, \"test\")\n",
    "\n",
    "y_train, y_dev, y_test = load_labels()\n"
   ]
  },
  {
   "cell_type": "markdown",
   "id": "24129b7e",
   "metadata": {
    "id": "24129b7e"
   },
   "source": [
    "# Word2Vec and FastText embeddings"
   ]
  },
  {
   "cell_type": "markdown",
   "id": "6497601a",
   "metadata": {
    "id": "6497601a"
   },
   "source": [
    "## Train the Models"
   ]
  },
  {
   "cell_type": "code",
   "execution_count": null,
   "id": "e71a35cd",
   "metadata": {
    "id": "e71a35cd"
   },
   "outputs": [],
   "source": [
    "EMBEDDING = \"word2vec\" # \"word2vec\" or \"fasttext\"\n",
    "EMBEDDING_VERSION = \"cbow\" # \"cbow\" or \"Skip_N-gram\"\n",
    "VECTOR_SIZE = 25\n"
   ]
  },
  {
   "cell_type": "code",
   "execution_count": null,
   "id": "9a5b3c3e",
   "metadata": {
    "colab": {
     "base_uri": "https://localhost:8080/"
    },
    "id": "9a5b3c3e",
    "outputId": "4d1d4243-fd90-483c-ecce-8c01537d8d18",
    "pycharm": {
     "is_executing": true
    }
   },
   "outputs": [],
   "source": [
    "%%time\n",
    "TRAIN_MODEL = True\n",
    "\n",
    "if TRAIN_MODEL:\n",
    "    train_and_save_embedding_model(x_preprocessed_train, sg=0, vector_size=VECTOR_SIZE, embedding_type=EMBEDDING)\n",
    "    # uncomment if Skip_N-gram is needed\n",
    "#     train_and_save_embedding_model(x_preprocessed_train, sg=1, vector_size=VECTOR_SIZE, embedding_type=EMBEDDING)\n",
    "\n",
    "model = load_embedding(version=EMBEDDING_VERSION, vector_size=VECTOR_SIZE, embedding_type = EMBEDDING)\n"
   ]
  },
  {
   "cell_type": "code",
   "execution_count": null,
   "id": "881fd20e",
   "metadata": {
    "colab": {
     "base_uri": "https://localhost:8080/"
    },
    "id": "881fd20e",
    "outputId": "19ce3d27-cf79-4efe-e840-340db24d1740",
    "pycharm": {
     "is_executing": true
    }
   },
   "outputs": [],
   "source": [
    "sentence_embedder = SentenceEmbedder(model)\n",
    "sentence_embedder.print_unknown_words_percentage(x_preprocessed_dev)\n",
    "sentence_embedder.print_unknown_words_percentage(x_preprocessed_test)\n"
   ]
  },
  {
   "cell_type": "markdown",
   "id": "9780a842",
   "metadata": {
    "id": "9780a842"
   },
   "source": [
    "## Constructing Sentence Vectors via Concatenation"
   ]
  },
  {
   "cell_type": "code",
   "execution_count": null,
   "id": "0a8c805f",
   "metadata": {
    "colab": {
     "base_uri": "https://localhost:8080/"
    },
    "id": "0a8c805f",
    "outputId": "b4cb5bd1-cac7-4b97-a1d2-c9d8b83b9857",
    "pycharm": {
     "is_executing": true
    },
    "scrolled": true
   },
   "outputs": [],
   "source": [
    "longest_sentence_len = sentence_embedder.compute_longest_sentence_length(x_preprocessed_train)\n"
   ]
  },
  {
   "cell_type": "code",
   "execution_count": null,
   "id": "894dc1cc",
   "metadata": {
    "id": "894dc1cc"
   },
   "outputs": [],
   "source": [
    "# longer sentences will be cut short \n",
    "MAX_WORDS = 50\n"
   ]
  },
  {
   "cell_type": "code",
   "execution_count": null,
   "id": "43eba11c",
   "metadata": {
    "colab": {
     "base_uri": "https://localhost:8080/"
    },
    "id": "43eba11c",
    "outputId": "b78122a0-3d24-46d7-efd2-6c4f00a9ba1f",
    "pycharm": {
     "is_executing": true
    }
   },
   "outputs": [],
   "source": [
    "%%time\n",
    "x_embeddings_train = sentence_embedder.concatenate_word_vectors(x_preprocessed_train, max_words=MAX_WORDS)\n",
    "x_embeddings_dev = sentence_embedder.concatenate_word_vectors(x_preprocessed_dev, max_words=MAX_WORDS)\n",
    "x_embeddings_test = sentence_embedder.concatenate_word_vectors(x_preprocessed_test, max_words=MAX_WORDS)\n",
    "\n",
    "x_embeddings_train.shape\n"
   ]
  },
  {
   "cell_type": "markdown",
   "id": "bc65b669",
   "metadata": {
    "id": "bc65b669"
   },
   "source": [
    "### Save the concatenated sentence embeddings"
   ]
  },
  {
   "cell_type": "code",
   "execution_count": null,
   "id": "d66c7ea3",
   "metadata": {
    "colab": {
     "base_uri": "https://localhost:8080/"
    },
    "id": "d66c7ea3",
    "outputId": "1b5f338e-c7e7-4b75-f9c7-7fcf939855be",
    "pycharm": {
     "is_executing": true
    }
   },
   "outputs": [],
   "source": [
    "persist_embeddings(x_embeddings_train, x_embeddings_dev, x_embeddings_test,\n",
    "                   PREPROCESSING_OPTIONS, EMBEDDING_VERSION, VECTOR_SIZE, MAX_WORDS, embedding_type=EMBEDDING, mode=\"concatenation\")\n"
   ]
  },
  {
   "cell_type": "markdown",
   "id": "9193d9ac",
   "metadata": {
    "id": "9193d9ac"
   },
   "source": [
    "## Constructing Sentence Vectors via Summation"
   ]
  },
  {
   "cell_type": "code",
   "execution_count": null,
   "id": "de801cc2",
   "metadata": {
    "colab": {
     "base_uri": "https://localhost:8080/"
    },
    "id": "de801cc2",
    "outputId": "0eb8686f-ce9f-449c-d6b5-a5bf6677ea22",
    "pycharm": {
     "is_executing": true
    }
   },
   "outputs": [],
   "source": [
    "%%time\n",
    "x_embeddings_train = sentence_embedder.sum_word_vectors(x_preprocessed_train)\n",
    "x_embeddings_dev = sentence_embedder.sum_word_vectors(x_preprocessed_dev)\n",
    "x_embeddings_test = sentence_embedder.sum_word_vectors(x_preprocessed_test)\n",
    "\n",
    "x_embeddings_train.shape\n"
   ]
  },
  {
   "cell_type": "markdown",
   "id": "AmGc_f6P47F1",
   "metadata": {
    "id": "AmGc_f6P47F1"
   },
   "source": [
    "### Save the summed sentence embeddings"
   ]
  },
  {
   "cell_type": "code",
   "execution_count": null,
   "id": "bb9a8ed7",
   "metadata": {
    "colab": {
     "base_uri": "https://localhost:8080/"
    },
    "id": "bb9a8ed7",
    "outputId": "a268d55d-3b57-4a3b-bb32-c70fe36fa981",
    "pycharm": {
     "is_executing": true
    }
   },
   "outputs": [],
   "source": [
    "persist_embeddings(x_embeddings_train, x_embeddings_dev, x_embeddings_test,\n",
    "                   PREPROCESSING_OPTIONS, EMBEDDING_VERSION, VECTOR_SIZE, 0, embedding_type=EMBEDDING, mode=\"summation\")\n"
   ]
  }
 ],
 "metadata": {
  "colab": {
   "collapsed_sections": [],
   "name": "Task2_ComputeEmbeddings.ipynb",
   "provenance": []
  },
  "kernelspec": {
   "display_name": "ml4h_project2",
   "language": "python",
   "name": "ml4h_project2"
  },
  "language_info": {
   "codemirror_mode": {
    "name": "ipython",
    "version": 3
   },
   "file_extension": ".py",
   "mimetype": "text/x-python",
   "name": "python",
   "nbconvert_exporter": "python",
   "pygments_lexer": "ipython3",
   "version": "3.9.7"
  }
 },
 "nbformat": 4,
 "nbformat_minor": 5
}

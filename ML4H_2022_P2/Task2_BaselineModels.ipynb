{
 "cells": [
  {
   "cell_type": "markdown",
   "id": "0773b52f",
   "metadata": {
    "id": "0773b52f"
   },
   "source": [
    "# This notebook runs baseline models from task 1 on word2vec and fasttext based sentence embeddings"
   ]
  },
  {
   "cell_type": "code",
   "execution_count": null,
   "id": "99cf76d2",
   "metadata": {
    "colab": {
     "base_uri": "https://localhost:8080/",
     "height": 52
    },
    "id": "99cf76d2",
    "outputId": "c3cea1c5-4a07-4750-f790-00f2d89aeb1e",
    "pycharm": {
     "is_executing": true
    }
   },
   "outputs": [],
   "source": [
    "%load_ext autoreload\n",
    "%autoreload 2\n",
    "\n",
    "from IPython.display import display, HTML\n",
    "display(HTML(\"<style>.container { width:100% !important; }</style>\"))\n"
   ]
  },
  {
   "cell_type": "code",
   "execution_count": null,
   "id": "813296f0",
   "metadata": {
    "id": "813296f0"
   },
   "outputs": [],
   "source": [
    "import numpy as np\n",
    "from sklearn.utils.class_weight import compute_class_weight\n",
    "\n",
    "from sklearn.linear_model import SGDClassifier\n",
    "from src.hyperparameter_search import run_randomized_search\n",
    "from src.evaluate import train_and_eval_clf\n",
    "\n",
    "from src.embeddings import get_embedding_config\n",
    "from src.data_processing import preprocess_raw_datasets, PreprocessingOptions, encode_one_hot_labels\n",
    "from src.data_loading import load_embeddings, load_labels\n",
    "from src.constants import PATH_TF_MODELS\n",
    "from src.plots import plot_tf_history\n",
    "from src.tf_models.linear_models import get_simple_linear_classifier\n",
    "from src.tf_datasets import create_tf_datasets\n",
    "\n"
   ]
  },
  {
   "cell_type": "markdown",
   "id": "acad25a8",
   "metadata": {
    "id": "acad25a8"
   },
   "source": [
    "# Data Loading\n",
    "Load previously computed embeddings"
   ]
  },
  {
   "cell_type": "code",
   "execution_count": null,
   "id": "c15a96ae",
   "metadata": {
    "id": "c15a96ae"
   },
   "outputs": [],
   "source": [
    "y_train, y_dev, y_test = load_labels()\n",
    "balanced_class_weight = {k: v for k, v in enumerate(compute_class_weight(\"balanced\", classes=np.unique(y_train), y=y_train))}\n"
   ]
  },
  {
   "cell_type": "code",
   "execution_count": null,
   "id": "68bc228f",
   "metadata": {
    "id": "68bc228f"
   },
   "outputs": [],
   "source": [
    "# relevant settings to identify the desired embedding\n",
    "PREPROCESSING_OPTIONS = PreprocessingOptions(remove_stop_words=False, lemmatisation=False)\n",
    "EMBEDDING = \"word2vec\" # \"word2vec\" or \"fasttext\" - please copy paste it as it is written\n",
    "EMBEDDING_VERSION = \"cbow\" # \"cbow\" or \"Skip_N-gram\" - please copy paste it as it is written\n",
    "VECTOR_SIZE = 25\n"
   ]
  },
  {
   "cell_type": "markdown",
   "id": "6ff12e7c",
   "metadata": {
    "id": "6ff12e7c"
   },
   "source": [
    "# Case 1: Sentence embeddings via summation of the word vectors"
   ]
  },
  {
   "cell_type": "code",
   "execution_count": null,
   "id": "98761730",
   "metadata": {
    "colab": {
     "base_uri": "https://localhost:8080/"
    },
    "id": "98761730",
    "outputId": "f5f58e63-c692-4405-cc89-cc40f62c30bb",
    "pycharm": {
     "is_executing": true
    }
   },
   "outputs": [],
   "source": [
    "x_embeddings_train, x_embeddings_dev, x_embeddings_test = load_embeddings(PREPROCESSING_OPTIONS, EMBEDDING_VERSION, VECTOR_SIZE, 0, embedding_type = EMBEDDING, mode=\"summation\")\n",
    "x_embeddings_train.shape\n"
   ]
  },
  {
   "cell_type": "markdown",
   "id": "eaba07cc",
   "metadata": {
    "id": "eaba07cc"
   },
   "source": [
    "## Train logistic regression"
   ]
  },
  {
   "cell_type": "code",
   "execution_count": null,
   "id": "788a871e",
   "metadata": {
    "scrolled": false
   },
   "outputs": [],
   "source": [
    "params_linear = {\n",
    "    \"penalty\": \"l2\",\n",
    "    \"loss\": \"log\",\n",
    "    \"early_stopping\": True,\n",
    "    \"class_weight\": \"balanced\",\n",
    "    \"alpha\": 0.000001\n",
    "}\n",
    "\n",
    "train_and_eval_clf(SGDClassifier(random_state=0, **params_linear), x_embeddings_train, y_train, x_embeddings_dev, y_dev, x_embeddings_test, y_test, \"Linear Models + Summation embeddings\")\n"
   ]
  },
  {
   "cell_type": "markdown",
   "id": "20ef5413",
   "metadata": {
    "id": "20ef5413"
   },
   "source": [
    "# Case 2: Sentence embeddings via concatenation of the word vectors"
   ]
  },
  {
   "cell_type": "code",
   "execution_count": null,
   "id": "80a31f18",
   "metadata": {
    "id": "80a31f18"
   },
   "outputs": [],
   "source": [
    "MAX_WORDS = 50\n"
   ]
  },
  {
   "cell_type": "code",
   "execution_count": null,
   "id": "b7d8a4cc",
   "metadata": {
    "colab": {
     "base_uri": "https://localhost:8080/"
    },
    "id": "b7d8a4cc",
    "outputId": "277c82c9-e313-41fc-ed44-49067a348c1a",
    "pycharm": {
     "is_executing": true
    }
   },
   "outputs": [],
   "source": [
    "x_embeddings_train, x_embeddings_dev, x_embeddings_test = load_embeddings(PREPROCESSING_OPTIONS, EMBEDDING_VERSION, VECTOR_SIZE, MAX_WORDS, embedding_type=EMBEDDING, mode=\"concatenation\")\n",
    "x_embeddings_train.shape\n"
   ]
  },
  {
   "cell_type": "code",
   "execution_count": null,
   "id": "bc477489",
   "metadata": {
    "colab": {
     "base_uri": "https://localhost:8080/"
    },
    "id": "bc477489",
    "outputId": "dcf48a2c-7d2b-4d47-fa25-c31c9966afbe",
    "pycharm": {
     "is_executing": true
    }
   },
   "outputs": [],
   "source": [
    "# reshape the data as needed by a simple logistic regression classifier: batch x n_features\n",
    "x_embeddings_train = x_embeddings_train.reshape((x_embeddings_train.shape[0], -1))\n",
    "x_embeddings_dev = x_embeddings_dev.reshape((x_embeddings_dev.shape[0], -1))\n",
    "x_embeddings_test = x_embeddings_test.reshape((x_embeddings_test.shape[0], -1))\n",
    "\n",
    "n_input_features = x_embeddings_train.shape[1]\n",
    "x_embeddings_train.shape\n"
   ]
  },
  {
   "cell_type": "markdown",
   "id": "f760e034",
   "metadata": {
    "id": "f760e034"
   },
   "source": [
    "## Create Tensorflow Datasets"
   ]
  },
  {
   "cell_type": "code",
   "execution_count": null,
   "id": "65469181",
   "metadata": {
    "id": "65469181"
   },
   "outputs": [],
   "source": [
    "# need one hot labels\n",
    "y_train = encode_one_hot_labels(y_train)\n",
    "y_dev = encode_one_hot_labels(y_dev)\n",
    "y_test = encode_one_hot_labels(y_test)\n",
    "\n",
    "train_dataset, dev_dataset, test_dataset = create_tf_datasets(x_embeddings_train, y_train,\n",
    "                                                              x_embeddings_dev, y_dev,\n",
    "                                                              x_embeddings_test, y_test)\n",
    "\n",
    "del x_embeddings_train\n",
    "del x_embeddings_dev\n",
    "del x_embeddings_test\n"
   ]
  },
  {
   "cell_type": "markdown",
   "id": "f36f5cf0",
   "metadata": {
    "id": "f36f5cf0"
   },
   "source": [
    "## Train Logistic Regression"
   ]
  },
  {
   "cell_type": "code",
   "execution_count": null,
   "id": "1df4c8bf",
   "metadata": {
    "colab": {
     "base_uri": "https://localhost:8080/",
     "height": 477
    },
    "id": "1df4c8bf",
    "outputId": "1962b4e8-5575-44f1-cc6e-e03ccbbcd387",
    "pycharm": {
     "is_executing": true
    }
   },
   "outputs": [],
   "source": [
    "model = get_simple_linear_classifier(n_input_features)\n",
    "history = model.fit(x=train_dataset, epochs=2, validation_data=dev_dataset, validation_steps=30, class_weight=balanced_class_weight)\n",
    "plot_tf_history(history)\n"
   ]
  },
  {
   "cell_type": "code",
   "execution_count": null,
   "id": "4fac0e37",
   "metadata": {
    "colab": {
     "base_uri": "https://localhost:8080/"
    },
    "id": "4fac0e37",
    "outputId": "1b38e9de-ff25-4945-dc8a-8f3a91924366",
    "pycharm": {
     "is_executing": true
    }
   },
   "outputs": [],
   "source": [
    "model.evaluate(test_dataset)\n"
   ]
  },
  {
   "cell_type": "code",
   "execution_count": null,
   "id": "0f2bb001",
   "metadata": {},
   "outputs": [],
   "source": []
  }
 ],
 "metadata": {
  "colab": {
   "collapsed_sections": [],
   "name": "Task2_BaselineModels.ipynb",
   "provenance": []
  },
  "kernelspec": {
   "display_name": "ml4h_project2",
   "language": "python",
   "name": "ml4h_project2"
  },
  "language_info": {
   "codemirror_mode": {
    "name": "ipython",
    "version": 3
   },
   "file_extension": ".py",
   "mimetype": "text/x-python",
   "name": "python",
   "nbconvert_exporter": "python",
   "pygments_lexer": "ipython3",
   "version": "3.9.7"
  }
 },
 "nbformat": 4,
 "nbformat_minor": 5
}

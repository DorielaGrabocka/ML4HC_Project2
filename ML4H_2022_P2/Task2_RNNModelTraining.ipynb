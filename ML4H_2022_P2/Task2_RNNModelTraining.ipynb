{
 "cells": [
  {
   "cell_type": "markdown",
   "id": "7a84e311",
   "metadata": {
    "id": "7a84e311"
   },
   "source": [
    "# This notebook trains RNN based models "
   ]
  },
  {
   "cell_type": "markdown",
   "id": "fa9fec98",
   "metadata": {
    "id": "fa9fec98"
   },
   "source": [
    "# Imports and Setup"
   ]
  },
  {
   "cell_type": "code",
   "execution_count": null,
   "id": "8afbd43c",
   "metadata": {
    "colab": {
     "base_uri": "https://localhost:8080/",
     "height": 17
    },
    "id": "8afbd43c",
    "outputId": "3f4d9e32-883b-4193-e5fd-77e33d38cca6"
   },
   "outputs": [],
   "source": [
    "%load_ext autoreload\n",
    "%autoreload 2\n",
    "\n",
    "from IPython.display import display, HTML\n",
    "display(HTML(\"<style>.container { width:100% !important; }</style>\"))\n"
   ]
  },
  {
   "cell_type": "code",
   "execution_count": null,
   "id": "259202ce",
   "metadata": {
    "id": "259202ce"
   },
   "outputs": [],
   "source": [
    "import tensorflow as tf\n",
    "import tensorflow_addons as tfa\n",
    "import numpy as np\n",
    "from sklearn.utils.class_weight import compute_class_weight\n",
    "\n",
    "from src.embeddings import get_embedding_config\n",
    "from src.data_processing import preprocess_raw_datasets, PreprocessingOptions, encode_one_hot_labels\n",
    "from src.data_loading import load_embeddings, load_labels\n",
    "from src.tf_models.rnn_models import rnn_model_factory, load_trained_model\n",
    "from src.tf_models.utils import compile_tf_model\n",
    "from src.tf_datasets import create_tf_datasets\n",
    "\n",
    "from src.constants import PATH_TF_MODELS\n",
    "from src.plots import plot_tf_history\n"
   ]
  },
  {
   "cell_type": "markdown",
   "id": "460c7145",
   "metadata": {
    "id": "460c7145"
   },
   "source": [
    "# Data Loading\n",
    "Load previously computed embeddings"
   ]
  },
  {
   "cell_type": "code",
   "execution_count": null,
   "id": "859bb606",
   "metadata": {
    "colab": {
     "base_uri": "https://localhost:8080/"
    },
    "id": "859bb606",
    "outputId": "447eebf5-269f-4442-b026-7be4b665aef7",
    "pycharm": {
     "is_executing": true
    }
   },
   "outputs": [],
   "source": [
    "y_train, y_dev, y_test = load_labels()\n",
    "balanced_class_weight = {k: v for k, v in enumerate(compute_class_weight(\"balanced\", classes=np.unique(y_train), y=y_train))}\n",
    "uniform_class_weight = {k: v for k, v in enumerate([1.,1.,1.,1.,1.])}\n",
    "\n",
    "# need one hot labels\n",
    "y_train = encode_one_hot_labels(y_train)\n",
    "y_dev = encode_one_hot_labels(y_dev)\n",
    "y_test = encode_one_hot_labels(y_test)\n",
    "\n",
    "print(\"Balanced class weights\", balanced_class_weight)\n"
   ]
  },
  {
   "cell_type": "markdown",
   "id": "2cd1eaef",
   "metadata": {
    "id": "2cd1eaef"
   },
   "source": [
    "# Config"
   ]
  },
  {
   "cell_type": "code",
   "execution_count": null,
   "id": "67545bb1",
   "metadata": {
    "id": "67545bb1"
   },
   "outputs": [],
   "source": [
    "# relevant settings to identify the desired embedding\n",
    "PREPROCESSING_OPTIONS = PreprocessingOptions(remove_stop_words=False, lemmatisation=False)\n",
    "EMBEDDING = \"word2vec\" # \"word2vec\" only\n",
    "EMBEDDING_VERSION = \"cbow\" # or Skip_N-gram\n",
    "VECTOR_SIZE = 25\n",
    "MAX_WORDS = 50\n"
   ]
  },
  {
   "cell_type": "code",
   "execution_count": null,
   "id": "378945d2",
   "metadata": {
    "colab": {
     "base_uri": "https://localhost:8080/"
    },
    "id": "378945d2",
    "outputId": "d4610019-9859-4972-8fb2-86213b95bae5",
    "pycharm": {
     "is_executing": true
    }
   },
   "outputs": [],
   "source": [
    "x_embeddings_train, x_embeddings_dev, x_embeddings_test = load_embeddings(PREPROCESSING_OPTIONS, EMBEDDING_VERSION, VECTOR_SIZE, MAX_WORDS, embedding_type=EMBEDDING)\n"
   ]
  },
  {
   "cell_type": "markdown",
   "id": "6f27a1cb",
   "metadata": {
    "id": "6f27a1cb"
   },
   "source": [
    "## Create tf Datasets"
   ]
  },
  {
   "cell_type": "code",
   "execution_count": null,
   "id": "4fdd8b7f",
   "metadata": {
    "id": "4fdd8b7f"
   },
   "outputs": [],
   "source": [
    "train_dataset, dev_dataset, test_dataset = create_tf_datasets(x_embeddings_train, y_train,\n",
    "                                                              x_embeddings_dev, y_dev,\n",
    "                                                              x_embeddings_test, y_test)\n",
    "\n",
    "del x_embeddings_train\n",
    "del x_embeddings_dev\n",
    "del x_embeddings_test\n"
   ]
  },
  {
   "cell_type": "markdown",
   "id": "afc5a9da",
   "metadata": {
    "id": "afc5a9da"
   },
   "source": [
    "## Train RNN models"
   ]
  },
  {
   "cell_type": "markdown",
   "id": "4a4c7a27",
   "metadata": {
    "id": "4a4c7a27"
   },
   "source": [
    "### Set the filepath where they will be saved"
   ]
  },
  {
   "cell_type": "code",
   "execution_count": null,
   "id": "94a96068",
   "metadata": {
    "id": "94a96068"
   },
   "outputs": [],
   "source": [
    "MODEL_NAME = \"large_bidirectional_lstm\" # could also be: rnn, lstm, bidirectional_lstm\n",
    "CLASS_WEIGHT = \"balanced\"\n",
    "\n",
    "checkpoint_filepath = PATH_TF_MODELS + MODEL_NAME + \"_\" + CLASS_WEIGHT + \"_\" + get_embedding_config(PREPROCESSING_OPTIONS, EMBEDDING_VERSION, VECTOR_SIZE, MAX_WORDS)\n"
   ]
  },
  {
   "cell_type": "code",
   "execution_count": null,
   "id": "de3bd67d",
   "metadata": {
    "colab": {
     "base_uri": "https://localhost:8080/"
    },
    "id": "de3bd67d",
    "outputId": "69121124-2116-4bcb-d0ae-f3627e7cf83a",
    "pycharm": {
     "is_executing": true
    }
   },
   "outputs": [],
   "source": [
    "if CLASS_WEIGHT == \"balanced\":\n",
    "    class_weight = balanced_class_weight\n",
    "else:\n",
    "    class_weight = uniform_class_weight\n",
    "    \n",
    "class_weight\n"
   ]
  },
  {
   "cell_type": "markdown",
   "id": "9db1f0f5",
   "metadata": {
    "id": "9db1f0f5"
   },
   "source": [
    "### Start training"
   ]
  },
  {
   "cell_type": "code",
   "execution_count": null,
   "id": "c30f1c14",
   "metadata": {
    "id": "c30f1c14",
    "scrolled": true
   },
   "outputs": [],
   "source": [
    "early_stop = tf.keras.callbacks.EarlyStopping(monitor='macro_f1_score', patience=2, mode=\"max\")\n",
    "checkpoint = tf.keras.callbacks.ModelCheckpoint(checkpoint_filepath, monitor=\"macro_f1_score\", save_best_only=True, mode=\"max\")\n",
    "\n",
    "model = rnn_model_factory(MODEL_NAME)\n",
    "history = model.fit(x=train_dataset, epochs=5, validation_data=dev_dataset, validation_steps=30, callbacks=[early_stop, checkpoint], class_weight=class_weight)\n"
   ]
  },
  {
   "cell_type": "code",
   "execution_count": null,
   "id": "ee1e8e08",
   "metadata": {
    "id": "ee1e8e08"
   },
   "outputs": [],
   "source": [
    "plot_tf_history(history)\n"
   ]
  },
  {
   "cell_type": "markdown",
   "id": "9ab6f922",
   "metadata": {
    "id": "9ab6f922"
   },
   "source": [
    "# Evaluate trained model"
   ]
  },
  {
   "cell_type": "code",
   "execution_count": null,
   "id": "2ae284b7",
   "metadata": {
    "id": "2ae284b7"
   },
   "outputs": [],
   "source": [
    "print(checkpoint_filepath)\n",
    "model = load_trained_model(checkpoint_filepath)\n",
    "compile_tf_model(model)\n"
   ]
  },
  {
   "cell_type": "code",
   "execution_count": null,
   "id": "e32d889b",
   "metadata": {
    "id": "e32d889b"
   },
   "outputs": [],
   "source": [
    "model.evaluate(test_dataset)\n"
   ]
  },
  {
   "cell_type": "code",
   "execution_count": null,
   "id": "5b2264f8",
   "metadata": {},
   "outputs": [],
   "source": []
  }
 ],
 "metadata": {
  "colab": {
   "collapsed_sections": [],
   "name": "Task2_RNNModelTraining.ipynb",
   "provenance": []
  },
  "kernelspec": {
   "display_name": "ml4h_project2",
   "language": "python",
   "name": "ml4h_project2"
  },
  "language_info": {
   "codemirror_mode": {
    "name": "ipython",
    "version": 3
   },
   "file_extension": ".py",
   "mimetype": "text/x-python",
   "name": "python",
   "nbconvert_exporter": "python",
   "pygments_lexer": "ipython3",
   "version": "3.9.7"
  }
 },
 "nbformat": 4,
 "nbformat_minor": 5
}

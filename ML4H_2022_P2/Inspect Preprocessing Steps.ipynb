{
    "cells": [
        {
            "cell_type": "markdown",
            "id": "be58b2cf",
            "metadata": {},
            "source": [
                "# Imports"
            ]
        },
        {
            "cell_type": "code",
            "execution_count": null,
            "id": "8b9c20a1",
            "metadata": {},
            "outputs": [],
            "source": [
                "%load_ext autoreload\n",
                "%autoreload 2\n",
                "\n",
                "from IPython.display import display, HTML\n",
                "display(HTML(\"<style>.container { width:100% !important; }</style>\"))\n"
            ]
        },
        {
            "cell_type": "code",
            "execution_count": null,
            "id": "962fcc5a",
            "metadata": {},
            "outputs": [],
            "source": [
                "# needed for removing stopwords later...\n",
                "import nltk\n",
                "nltk.download('stopwords')\n",
                "nltk.download('wordnet')\n",
                "nltk.download('omw-1.4')\n",
                "nltk.download('averaged_perceptron_tagger')\n"
            ]
        },
        {
            "cell_type": "code",
            "execution_count": null,
            "id": "3767ba58",
            "metadata": {},
            "outputs": [],
            "source": [
                "from src.data_processing import get_raw_x_y, get_sentence_tokens, _remove_punctuation, _remove_stop_words, encode_labels, get_x_token, PreprocessingOptions, _lemmatize\n",
                "from src.data_loading import load_data\n",
                "from src.constants import PATH_DEV_DATA, PATH_TEST_DATA, PATH_TRAIN_DATA\n"
            ]
        },
        {
            "cell_type": "code",
            "execution_count": null,
            "id": "ed828902",
            "metadata": {},
            "outputs": [],
            "source": [
                "PREPROCESSING_OPTIONS = PreprocessingOptions(lemmatisation=True, n_processes=6)\n"
            ]
        },
        {
            "cell_type": "code",
            "execution_count": null,
            "id": "c0e87928",
            "metadata": {},
            "outputs": [],
            "source": [
                "dev = load_data(PATH_DEV_DATA)\n",
                "dev\n"
            ]
        },
        {
            "cell_type": "code",
            "execution_count": null,
            "id": "d022a42d",
            "metadata": {},
            "outputs": [],
            "source": [
                "x_raw_dev, y_raw_dev = get_raw_x_y(dev)\n"
            ]
        },
        {
            "cell_type": "code",
            "execution_count": null,
            "id": "bfa75912",
            "metadata": {},
            "outputs": [],
            "source": [
                "sentence = x_raw_dev[7]\n",
                "sentence\n"
            ]
        },
        {
            "cell_type": "code",
            "execution_count": null,
            "id": "5b347192",
            "metadata": {},
            "outputs": [],
            "source": [
                "tokens = get_sentence_tokens(sentence, PREPROCESSING_OPTIONS)\n",
                "tokens\n"
            ]
        },
        {
            "cell_type": "code",
            "execution_count": null,
            "id": "2fe324dc",
            "metadata": {},
            "outputs": [],
            "source": [
                "%%time\n",
                "x_tokens = [get_sentence_tokens(sentence, PREPROCESSING_OPTIONS) for sentence in x_raw_dev]\n",
                "x_tokens\n"
            ]
        },
        {
            "cell_type": "code",
            "execution_count": null,
            "id": "69fd2826",
            "metadata": {},
            "outputs": [],
            "source": [
                "%%time\n",
                "x_tokens_multi = get_x_token(x_raw_dev, PREPROCESSING_OPTIONS)\n",
                "x_tokens_multi\n"
            ]
        },
        {
            "cell_type": "code",
            "execution_count": null,
            "id": "64cfd49a",
            "metadata": {},
            "outputs": [],
            "source": [
                "# quick test to check multiprocessing impl is correct\n",
                "for idx, (a, b) in enumerate(zip(x_tokens, x_tokens_multi)):\n",
                "    if a != b:\n",
                "        print(a, b, idx)\n",
                "    assert a == b\n",
                "    "
            ]
        },
        {
            "cell_type": "code",
            "execution_count": null,
            "id": "0e7c26b7",
            "metadata": {},
            "outputs": [],
            "source": [
                "%%time\n",
                "y_dev = encode_labels(y_raw_dev)\n",
                "y_dev\n"
            ]
        },
        {
            "cell_type": "code",
            "execution_count": null,
            "id": "f935fd3b",
            "metadata": {},
            "outputs": [],
            "source": []
        }
    ],
    "metadata": {
        "kernelspec": {
            "display_name": "ml4h_p2",
            "language": "python",
            "name": "ml4h_p2"
        },
        "language_info": {
            "codemirror_mode": {
                "name": "ipython",
                "version": 3
            },
            "file_extension": ".py",
            "mimetype": "text/x-python",
            "name": "python",
            "nbconvert_exporter": "python",
            "pygments_lexer": "ipython3",
            "version": "3.9.7"
        }
    },
    "nbformat": 4,
    "nbformat_minor": 5
}